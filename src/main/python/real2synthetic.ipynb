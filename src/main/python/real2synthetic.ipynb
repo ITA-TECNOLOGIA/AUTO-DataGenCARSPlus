{
 "cells": [
  {
   "cell_type": "code",
   "execution_count": 11,
   "metadata": {},
   "outputs": [],
   "source": [
    "import pandas as pd\n",
    "import json\n",
    "\n",
    "# Load the data\n",
    "df = pd.read_csv(r'C:\\Users\\mcaballero\\Desktop\\pro22_0364_p3di_tecnara_aei2022b_mincotur_mrr\\resources\\dataset\\data_imascono.csv')\n",
    "\n",
    "# Transform user_id from string to numeric values\n",
    "user_ids = df['user_id'].unique()\n",
    "user_id_dict = {user_id: i+1 for i, user_id in enumerate(user_ids)}\n",
    "df['user_id'] = df['user_id'].map(user_id_dict)\n",
    "\n",
    "# user.csv\n",
    "df_user = df[['user_id']].drop_duplicates()\n",
    "df_user.to_csv(r'C:\\Users\\mcaballero\\Desktop\\pro22_0364_p3di_tecnara_aei2022b_mincotur_mrr\\resources\\dataset\\user.csv', index=False)\n",
    "\n",
    "# item.csv\n",
    "df_item = df[df['object_type'] != 'Player'][['object_id', 'object_type', 'object_action', 'object_position', 'room_id']].drop_duplicates()\n",
    "df_item.columns = ['item_id', 'object_type', 'object_action_types', 'object_position', 'room_id']\n",
    "\n",
    "grouped_data = df_item.groupby('object_type')['object_action_types'].agg(lambda x: x.unique())\n",
    "for object_type, object_actions in grouped_data.items():\n",
    "    df_item.loc[df_item['object_type'] == object_type, 'object_action_types'] = ', '.join(object_actions)\n",
    "\n",
    "df_item.to_csv(r'C:\\Users\\mcaballero\\Desktop\\pro22_0364_p3di_tecnara_aei2022b_mincotur_mrr\\resources\\dataset\\item.csv', index=False)\n",
    "\n",
    "# context.csv\n",
    "df_context = df[['device_data']].drop_duplicates()\n",
    "df_context['device_data'] = df_context['device_data'].apply(lambda x: str(json.loads(x)) if pd.notnull(x) else \"{}\")\n",
    "df_context = df_context.reset_index()\n",
    "df_context.columns = ['context_id', 'device_data']\n",
    "df_context.to_csv(r'C:\\Users\\mcaballero\\Desktop\\pro22_0364_p3di_tecnara_aei2022b_mincotur_mrr\\resources\\dataset\\context.csv', index=False)\n",
    "\n",
    "# behavior.csv\n",
    "df_behavior = df[['user_id', 'object_action', 'object_position', 'object_id', 'device_data', '@timestamp']].dropna()\n",
    "df_behavior.columns = ['user_id', 'object_action', 'user_position', 'item_id', 'device_data', 'timestamp']\n",
    "\n",
    "# Merge behavior.csv and context.csv on device_data to ensure context_id is consistent\n",
    "df_behavior = pd.merge(df_behavior, df_context, how='left', on='device_data')\n",
    "df_behavior.drop(columns=['device_data'], inplace=True)\n",
    "\n",
    "df_behavior['behavior_id'] = df_behavior.index + 1\n",
    "df_behavior.to_csv(r'C:\\Users\\mcaballero\\Desktop\\pro22_0364_p3di_tecnara_aei2022b_mincotur_mrr\\resources\\dataset\\behavior.csv', index=False)"
   ]
  }
 ],
 "metadata": {
  "kernelspec": {
   "display_name": "tfm",
   "language": "python",
   "name": "python3"
  },
  "language_info": {
   "codemirror_mode": {
    "name": "ipython",
    "version": 3
   },
   "file_extension": ".py",
   "mimetype": "text/x-python",
   "name": "python",
   "nbconvert_exporter": "python",
   "pygments_lexer": "ipython3",
   "version": "3.8.16"
  },
  "orig_nbformat": 4
 },
 "nbformat": 4,
 "nbformat_minor": 2
}
