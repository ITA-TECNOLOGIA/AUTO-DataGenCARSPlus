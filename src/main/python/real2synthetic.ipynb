{
 "cells": [
  {
   "cell_type": "code",
   "execution_count": null,
   "metadata": {},
   "outputs": [],
   "source": [
    "import pandas as pd"
   ]
  },
  {
   "cell_type": "code",
   "execution_count": null,
   "metadata": {},
   "outputs": [],
   "source": [
    "import json\n",
    "from dateutil.parser import parse\n",
    "\n",
    "# Load the data\n",
    "df = pd.read_csv(r'C:\\Users\\mcaballero\\Desktop\\auto_datagencars\\resources\\dataset_imascono\\data_imascono.csv')\n",
    "\n",
    "# Transform user_id from string to numeric values\n",
    "user_ids = df['user_id'].unique()\n",
    "user_id_dict = {user_id: i+1 for i, user_id in enumerate(user_ids)}\n",
    "df['user_id'] = df['user_id'].map(user_id_dict)\n",
    "\n",
    "# user.csv\n",
    "df_user = df[['user_id']].drop_duplicates()\n",
    "df_user.to_csv(r'C:\\Users\\mcaballero\\Desktop\\auto_datagencars\\resources\\dataset_imascono\\user.csv', index=False)\n",
    "\n",
    "# item.csv\n",
    "df_item = df[df['object_type'] != 'Player'][['object_id', 'object_type', 'object_action', 'object_position', 'room_id']].drop_duplicates()\n",
    "df_item.columns = ['item_id', 'object_type', 'object_action_types', 'object_position', 'room_id']\n",
    "\n",
    "grouped_data = df_item.groupby('object_type')['object_action_types'].agg(lambda x: x.unique())\n",
    "for object_type, object_actions in grouped_data.items():\n",
    "    df_item.loc[df_item['object_type'] == object_type, 'object_action_types'] = ', '.join(object_actions)\n",
    "\n",
    "# Remove all rows where item_id is not an integer\n",
    "df_item = df_item[pd.to_numeric(df_item['item_id'], errors='coerce').notna()]\n",
    "\n",
    "# Keep the row with object_position when dropping item_id duplicates\n",
    "df_item = df_item.sort_values('object_position', ascending=False).drop_duplicates(subset='item_id', keep='first')\n",
    "\n",
    "# Remove rows where item_id is \"position\", object_action_types is \"player\", and object_position is \"update\"\n",
    "df_item = df_item[~((df_item['item_id'] == 'position') & \n",
    "                    (df_item['object_action_types'] == 'player') & \n",
    "                    (df_item['object_position'] == 'update'))]\n",
    "\n",
    "# Sort the dataframe by item_id\n",
    "df_item = df_item.sort_values('item_id')\n",
    "\n",
    "df_item.to_csv(r'C:\\Users\\mcaballero\\Desktop\\auto_datagencars\\resources\\dataset_imascono\\item.csv', index=False)\n",
    "\n",
    "# context.csv\n",
    "df['context_id'] = df.groupby('device_data').ngroup() + 1\n",
    "context_csv = df[['context_id', 'device_data']].drop_duplicates()\n",
    "\n",
    "# Transforming the JSON strings in device_data into dictionary\n",
    "context_csv['device_data'] = context_csv['device_data'].apply(lambda x: json.loads(x) if pd.notnull(x) else \"{}\")\n",
    "\n",
    "context_csv.to_csv(r'C:\\Users\\mcaballero\\Desktop\\auto_datagencars\\resources\\dataset_imascono\\context.csv', index=False)\n",
    "\n",
    "# behavior.csv\n",
    "behavior_csv = df[['user_id', 'object_action', 'object_position', 'object_id', 'context_id', '@timestamp']]\n",
    "behavior_csv.columns = ['user_id', 'object_action', 'user_position', 'item_id', 'context_id', 'timestamp']\n",
    "\n",
    "# Convert timestamp column to datetime object and format it\n",
    "behavior_csv['timestamp'] = behavior_csv['timestamp'].apply(lambda x: parse(x).strftime('%Y-%m-%d %H:%M:%S'))\n",
    "\n",
    "behavior_csv['behavior_id'] = behavior_csv.index + 1\n",
    "behavior_csv.to_csv(r'C:\\Users\\mcaballero\\Desktop\\auto_datagencars\\resources\\dataset_imascono\\behavior.csv', index=False)"
   ]
  },
  {
   "cell_type": "code",
   "execution_count": null,
   "metadata": {},
   "outputs": [],
   "source": [
    "# PROCESS BEHAVIOR.CSV\n",
    "\n",
    "df = pd.read_csv(r'C:\\Users\\mcaballero\\Desktop\\auto_datagencars\\resources\\dataset_imascono\\behavior.csv')\n",
    "\n",
    "# Remove rows where 'context_id' is None\n",
    "df = df[df['context_id'].notna()]\n",
    "\n",
    "df.to_csv(r'C:\\Users\\mcaballero\\Desktop\\auto_datagencars\\resources\\dataset_imascono\\behavior2.csv', index=False)"
   ]
  }
 ],
 "metadata": {
  "kernelspec": {
   "display_name": "tfm",
   "language": "python",
   "name": "python3"
  },
  "language_info": {
   "codemirror_mode": {
    "name": "ipython",
    "version": 3
   },
   "file_extension": ".py",
   "mimetype": "text/x-python",
   "name": "python",
   "nbconvert_exporter": "python",
   "pygments_lexer": "ipython3",
   "version": "3.8.16"
  },
  "orig_nbformat": 4
 },
 "nbformat": 4,
 "nbformat_minor": 2
}
